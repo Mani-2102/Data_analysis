{
 "cells": [
  {
   "cell_type": "markdown",
   "id": "beda1e0c",
   "metadata": {},
   "source": [
    "Lean fundation of NumPy"
   ]
  }
 ],
 "metadata": {
  "kernelspec": {
   "display_name": ".venv (3.13.2)",
   "language": "python",
   "name": "python3"
  },
  "language_info": {
   "name": "python",
   "version": "3.13.2"
  }
 },
 "nbformat": 4,
 "nbformat_minor": 5
}
